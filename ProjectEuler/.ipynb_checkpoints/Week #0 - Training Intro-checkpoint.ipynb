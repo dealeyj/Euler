{
 "cells": [
  {
   "cell_type": "markdown",
   "metadata": {
    "colab_type": "text",
    "id": "9MaY_Pj8dnr9"
   },
   "source": [
    "# Hello and Welcome\n",
    "\n",
    "## This is a Markdown cell, for comments and explanations (https://github.com/adam-p/markdown-here/wiki/Markdown-Cheatsheet)\n",
    "\n",
    "We will start with importing standard libraries (we won't use them all, this is only to introduce how to import packages)\n",
    "- collections provides useful data structures\n",
    "- csv allow to manipulate CSV files\n",
    "- numpy (np) is the main library used to manipulate numeric data\n",
    "- pandas (pd) provides a dataframe data structure similar to R, and allows aggregation operations similar to R dplyr\n",
    "- seaborn (sns) provides a convenient interface for plotting data coming from pandas dataframes\n",
    "\n",
    "Let's say we want to use the reader function from the csv library. We can either:\n",
    "- import the csv library with \"import csv\". The reader function can then be called using csv.reader(arguments...)\n",
    "- only import the reader function from the csv library, with \"from csv import reader\". The reader function is now known by name and can be called directly using reader(arguments...)\n",
    "\n",
    "Some libraries are so useful that we want to have access to all their functions conveniently. To do so, we can give a smaller name to the library using the \"import pandas as pd\" syntax."
   ]
  },
  {
   "cell_type": "code",
   "execution_count": 0,
   "metadata": {
    "colab": {
     "autoexec": {
      "startup": false,
      "wait_interval": 0
     }
    },
    "colab_type": "code",
    "collapsed": true,
    "id": "i4K2CYxudhzP"
   },
   "outputs": [],
   "source": [
    "# we can include comments in the code using the # symbol\n",
    "\n",
    "# normal import\n",
    "import collections\n",
    "# importing a function by name\n",
    "from csv import reader\n",
    "# renaming a library\n",
    "import pandas as pd"
   ]
  },
  {
   "cell_type": "code",
   "execution_count": 0,
   "metadata": {
    "colab": {
     "autoexec": {
      "startup": false,
      "wait_interval": 0
     }
    },
    "colab_type": "code",
    "collapsed": true,
    "id": "IF77EMQxd-xT"
   },
   "outputs": [],
   "source": [
    "# I can now call reader but not csv.reader\n",
    "# I can call collections.Counter but not Counter\n",
    "# I can call pd.read_csv but not pandas.read_csv\n",
    "\n",
    "print(reader.__doc__)"
   ]
  },
  {
   "cell_type": "markdown",
   "metadata": {
    "colab_type": "text",
    "id": "Kuu58nYT1mhH"
   },
   "source": [
    "# What should we know about lists ?\n",
    "- They are ordered collections of items: \n",
    "- A list of N items is indexed from 0 to N-1\n",
    "- They can contain items of different types\n",
    "- They can be truncated from the beginning and / or the end\n",
    "- You can access any item directly using its index\n",
    "- You can iterate through them\n",
    "- You can construct them through list comprehensions"
   ]
  },
  {
   "cell_type": "code",
   "execution_count": 0,
   "metadata": {
    "colab": {
     "autoexec": {
      "startup": false,
      "wait_interval": 0
     }
    },
    "colab_type": "code",
    "collapsed": true,
    "id": "SizFHSykhFEK"
   },
   "outputs": [],
   "source": [
    "my_list = [1,'A',0.333]\n",
    "\n",
    "print('Length of list %s is %s' % (my_list,len(my_list)))"
   ]
  },
  {
   "cell_type": "code",
   "execution_count": 0,
   "metadata": {
    "colab": {
     "autoexec": {
      "startup": false,
      "wait_interval": 0
     }
    },
    "colab_type": "code",
    "collapsed": true,
    "id": "PUNjBf0e268Y"
   },
   "outputs": [],
   "source": [
    "# let's iterate through the list\n",
    "\n",
    "for item in my_list:\n",
    "  my_type = type(item)\n",
    "  print('the type of %s is %s' % (item,my_type))"
   ]
  },
  {
   "cell_type": "code",
   "execution_count": 0,
   "metadata": {
    "colab": {
     "autoexec": {
      "startup": false,
      "wait_interval": 0
     }
    },
    "colab_type": "code",
    "collapsed": true,
    "id": "mpTB5OV22SgI"
   },
   "outputs": [],
   "source": [
    "# Python provides you with a range object, that counts from 0 to any number\n",
    "\n",
    "my_list = list(range(100))\n",
    "print('my_list now contains %s' % my_list)"
   ]
  },
  {
   "cell_type": "code",
   "execution_count": 0,
   "metadata": {
    "colab": {
     "autoexec": {
      "startup": false,
      "wait_interval": 0
     }
    },
    "colab_type": "code",
    "collapsed": true,
    "id": "LgzvR3_J2vEy"
   },
   "outputs": [],
   "source": [
    "# let's print the first 10 items\n",
    "\n",
    "first_ten = my_list[:10]\n",
    "\n",
    "print('First 10 items: %s' % first_ten)"
   ]
  },
  {
   "cell_type": "code",
   "execution_count": 0,
   "metadata": {
    "colab": {
     "autoexec": {
      "startup": false,
      "wait_interval": 0
     }
    },
    "colab_type": "code",
    "collapsed": true,
    "id": "1BYERS9y3Z23"
   },
   "outputs": [],
   "source": [
    "# let's print the last 10 items\n",
    "\n",
    "last_ten = my_list[-10:]\n",
    "\n",
    "print('Last 10 items: %s' % last_ten)"
   ]
  },
  {
   "cell_type": "code",
   "execution_count": 0,
   "metadata": {
    "colab": {
     "autoexec": {
      "startup": false,
      "wait_interval": 0
     }
    },
    "colab_type": "code",
    "collapsed": true,
    "id": "mGg36vrX3cyn"
   },
   "outputs": [],
   "source": [
    "# what if we ask for 20 items from the first_ten list, which only has 10 items?\n",
    "\n",
    "print(first_ten[:20])"
   ]
  },
  {
   "cell_type": "code",
   "execution_count": 0,
   "metadata": {
    "colab": {
     "autoexec": {
      "startup": false,
      "wait_interval": 0
     }
    },
    "colab_type": "code",
    "collapsed": true,
    "id": "Eo8Vwrfd4GVT"
   },
   "outputs": [],
   "source": [
    "# what is the 3rd item ? Remember, the index starts at 0\n",
    "\n",
    "print(my_list[2])"
   ]
  },
  {
   "cell_type": "code",
   "execution_count": 0,
   "metadata": {
    "colab": {
     "autoexec": {
      "startup": false,
      "wait_interval": 0
     }
    },
    "colab_type": "code",
    "collapsed": true,
    "id": "3yV8pYZ64Qoz"
   },
   "outputs": [],
   "source": [
    "# let's build a list of squares through list comprehension\n",
    "\n",
    "my_squares = [value**2 for value in my_list]\n",
    "print(my_squares)"
   ]
  },
  {
   "cell_type": "code",
   "execution_count": 0,
   "metadata": {
    "colab": {
     "autoexec": {
      "startup": false,
      "wait_interval": 0
     }
    },
    "colab_type": "code",
    "collapsed": true,
    "id": "eeQirbxs4me4"
   },
   "outputs": [],
   "source": [
    "# let's add a condition : we only want squares from even values in the initial list\n",
    "\n",
    "my_even_squares = [value**2 for value in my_list if value % 2 == 0]\n",
    "print(my_even_squares)"
   ]
  },
  {
   "cell_type": "code",
   "execution_count": 0,
   "metadata": {
    "colab": {
     "autoexec": {
      "startup": false,
      "wait_interval": 0
     }
    },
    "colab_type": "code",
    "collapsed": true,
    "id": "xK7b1W4E49Mi"
   },
   "outputs": [],
   "source": [
    "# this is the same as creating the list and filling it one by one, just faster\n",
    "\n",
    "my_even_squares = []\n",
    "for value in my_list:\n",
    "  if value % 2 == 0:\n",
    "    my_even_squares.append(value**2)\n",
    "    \n",
    "print(my_even_squares)"
   ]
  },
  {
   "cell_type": "code",
   "execution_count": 0,
   "metadata": {
    "colab": {
     "autoexec": {
      "startup": false,
      "wait_interval": 0
     }
    },
    "colab_type": "code",
    "collapsed": true,
    "id": "Fk05cwuy5IG3"
   },
   "outputs": [],
   "source": []
  },
  {
   "cell_type": "markdown",
   "metadata": {
    "colab_type": "text",
    "id": "wtzz1ngAzN1V"
   },
   "source": [
    "# Homework\n",
    "\n",
    "This week, complete:\n",
    "\n",
    "- https://projecteuler.net/problem=1\n",
    "- https://projecteuler.net/problem=2\n",
    "- https://projecteuler.net/problem=8\n"
   ]
  },
  {
   "cell_type": "code",
   "execution_count": 0,
   "metadata": {
    "colab": {
     "autoexec": {
      "startup": false,
      "wait_interval": 0
     }
    },
    "colab_type": "code",
    "collapsed": true,
    "id": "VSt_YWjvzblU"
   },
   "outputs": [],
   "source": []
  }
 ],
 "metadata": {
  "colab": {
   "default_view": {},
   "name": "Week #0 : Training Intro.ipynb",
   "provenance": [],
   "version": "0.3.2",
   "views": {}
  },
  "kernelspec": {
   "display_name": "Python 3",
   "language": "python",
   "name": "python3"
  },
  "language_info": {
   "codemirror_mode": {
    "name": "ipython",
    "version": 3
   },
   "file_extension": ".py",
   "mimetype": "text/x-python",
   "name": "python",
   "nbconvert_exporter": "python",
   "pygments_lexer": "ipython3",
   "version": "3.6.1"
  }
 },
 "nbformat": 4,
 "nbformat_minor": 1
}
